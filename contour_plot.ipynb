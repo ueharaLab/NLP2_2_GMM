{
 "cells": [
  {
   "cell_type": "markdown",
   "id": "46d95aa7",
   "metadata": {},
   "source": [
    "# 等高線を引くコーディング\n",
    "1. 平面をグリッド点に分割する　(meshgredメソッド）\n",
    "2. グリッド点を散布図にプロットする  \n",
    "基本的なコーディングは以下を参照  \n",
    "https://it-mayura.com/python/pm013/"
   ]
  },
  {
   "cell_type": "code",
   "execution_count": 12,
   "id": "22dae9cc",
   "metadata": {},
   "outputs": [
    {
     "name": "stdout",
     "output_type": "stream",
     "text": [
      "[[-5.   -3.75 -2.5  -1.25  0.    1.25  2.5   3.75  5.  ]\n",
      " [-5.   -3.75 -2.5  -1.25  0.    1.25  2.5   3.75  5.  ]\n",
      " [-5.   -3.75 -2.5  -1.25  0.    1.25  2.5   3.75  5.  ]\n",
      " [-5.   -3.75 -2.5  -1.25  0.    1.25  2.5   3.75  5.  ]\n",
      " [-5.   -3.75 -2.5  -1.25  0.    1.25  2.5   3.75  5.  ]\n",
      " [-5.   -3.75 -2.5  -1.25  0.    1.25  2.5   3.75  5.  ]\n",
      " [-5.   -3.75 -2.5  -1.25  0.    1.25  2.5   3.75  5.  ]\n",
      " [-5.   -3.75 -2.5  -1.25  0.    1.25  2.5   3.75  5.  ]\n",
      " [-5.   -3.75 -2.5  -1.25  0.    1.25  2.5   3.75  5.  ]]\n",
      "[[-5.   -5.   -5.   -5.   -5.   -5.   -5.   -5.   -5.  ]\n",
      " [-3.75 -3.75 -3.75 -3.75 -3.75 -3.75 -3.75 -3.75 -3.75]\n",
      " [-2.5  -2.5  -2.5  -2.5  -2.5  -2.5  -2.5  -2.5  -2.5 ]\n",
      " [-1.25 -1.25 -1.25 -1.25 -1.25 -1.25 -1.25 -1.25 -1.25]\n",
      " [ 0.    0.    0.    0.    0.    0.    0.    0.    0.  ]\n",
      " [ 1.25  1.25  1.25  1.25  1.25  1.25  1.25  1.25  1.25]\n",
      " [ 2.5   2.5   2.5   2.5   2.5   2.5   2.5   2.5   2.5 ]\n",
      " [ 3.75  3.75  3.75  3.75  3.75  3.75  3.75  3.75  3.75]\n",
      " [ 5.    5.    5.    5.    5.    5.    5.    5.    5.  ]]\n",
      "[[-5.   -5.  ]\n",
      " [-3.75 -5.  ]\n",
      " [-2.5  -5.  ]\n",
      " [-1.25 -5.  ]\n",
      " [ 0.   -5.  ]\n",
      " [ 1.25 -5.  ]\n",
      " [ 2.5  -5.  ]\n",
      " [ 3.75 -5.  ]\n",
      " [ 5.   -5.  ]\n",
      " [-5.   -3.75]\n",
      " [-3.75 -3.75]\n",
      " [-2.5  -3.75]\n",
      " [-1.25 -3.75]\n",
      " [ 0.   -3.75]\n",
      " [ 1.25 -3.75]\n",
      " [ 2.5  -3.75]\n",
      " [ 3.75 -3.75]\n",
      " [ 5.   -3.75]\n",
      " [-5.   -2.5 ]\n",
      " [-3.75 -2.5 ]\n",
      " [-2.5  -2.5 ]\n",
      " [-1.25 -2.5 ]\n",
      " [ 0.   -2.5 ]\n",
      " [ 1.25 -2.5 ]\n",
      " [ 2.5  -2.5 ]\n",
      " [ 3.75 -2.5 ]\n",
      " [ 5.   -2.5 ]\n",
      " [-5.   -1.25]\n",
      " [-3.75 -1.25]\n",
      " [-2.5  -1.25]\n",
      " [-1.25 -1.25]\n",
      " [ 0.   -1.25]\n",
      " [ 1.25 -1.25]\n",
      " [ 2.5  -1.25]\n",
      " [ 3.75 -1.25]\n",
      " [ 5.   -1.25]\n",
      " [-5.    0.  ]\n",
      " [-3.75  0.  ]\n",
      " [-2.5   0.  ]\n",
      " [-1.25  0.  ]\n",
      " [ 0.    0.  ]\n",
      " [ 1.25  0.  ]\n",
      " [ 2.5   0.  ]\n",
      " [ 3.75  0.  ]\n",
      " [ 5.    0.  ]\n",
      " [-5.    1.25]\n",
      " [-3.75  1.25]\n",
      " [-2.5   1.25]\n",
      " [-1.25  1.25]\n",
      " [ 0.    1.25]\n",
      " [ 1.25  1.25]\n",
      " [ 2.5   1.25]\n",
      " [ 3.75  1.25]\n",
      " [ 5.    1.25]\n",
      " [-5.    2.5 ]\n",
      " [-3.75  2.5 ]\n",
      " [-2.5   2.5 ]\n",
      " [-1.25  2.5 ]\n",
      " [ 0.    2.5 ]\n",
      " [ 1.25  2.5 ]\n",
      " [ 2.5   2.5 ]\n",
      " [ 3.75  2.5 ]\n",
      " [ 5.    2.5 ]\n",
      " [-5.    3.75]\n",
      " [-3.75  3.75]\n",
      " [-2.5   3.75]\n",
      " [-1.25  3.75]\n",
      " [ 0.    3.75]\n",
      " [ 1.25  3.75]\n",
      " [ 2.5   3.75]\n",
      " [ 3.75  3.75]\n",
      " [ 5.    3.75]\n",
      " [-5.    5.  ]\n",
      " [-3.75  5.  ]\n",
      " [-2.5   5.  ]\n",
      " [-1.25  5.  ]\n",
      " [ 0.    5.  ]\n",
      " [ 1.25  5.  ]\n",
      " [ 2.5   5.  ]\n",
      " [ 3.75  5.  ]\n",
      " [ 5.    5.  ]]\n"
     ]
    },
    {
     "data": {
      "text/plain": [
       "<matplotlib.collections.PathCollection at 0x15c5b9bef40>"
      ]
     },
     "execution_count": 12,
     "metadata": {},
     "output_type": "execute_result"
    },
    {
     "data": {
      "image/png": "[encoded data removed]",
      "text/plain": [
       "<Figure size 432x288 with 1 Axes>"
      ]
     },
     "metadata": {
      "needs_background": "light"
     },
     "output_type": "display_data"
    }
   ],
   "source": [
    "import numpy as np\n",
    "import matplotlib.pyplot as plt\n",
    "from scipy.stats import multivariate_normal\n",
    "\n",
    "# グリッドの座標x,yを生成\n",
    "x = np.linspace(-5,5,9) \n",
    "y = np.linspace(-5,5,9) \n",
    "x, y = np.meshgrid(x, y)  #ｘとｙからメッシュグリッドを作成\n",
    "print(x)#グリッドの各点のx座標：1行の目盛を1ベクトルとする2次元配列（ので、行ベクトルの要素はすべて同じ\n",
    "print(y)#グリッドの各点のy座標： 1列の目盛を1ベクトルとする2次元配列　ので列ベクトルの要素はすべて同じ\n",
    "myu = np.zeros(2)\n",
    "sigma = np.eye(2)\n",
    "mesh_val = np.c_[np.ravel(x), np.ravel(y)]# x,yグリッドの座標点からx,y座標ペアを作る\n",
    "print(mesh_val)\n",
    "plt.scatter(mesh_val[:,0],mesh_val[:,1])"
   ]
  },
  {
   "cell_type": "markdown",
   "id": "23306e49",
   "metadata": {},
   "source": [
    "3. 多変量正規分布にメッシュグリッド座標点を入力して、密度関数を計算"
   ]
  },
  {
   "cell_type": "code",
   "execution_count": 13,
   "id": "a29cbc33",
   "metadata": {},
   "outputs": [
    {
     "name": "stderr",
     "output_type": "stream",
     "text": [
      "C:\\Users\\uhoku\\AppData\\Local\\Temp\\ipykernel_31884\\2704036548.py:3: UserWarning: The following kwargs were not used by contour: 'level'\n",
      "  plt.contour(x,y,z,level=4)\n"
     ]
    },
    {
     "data": {
      "text/plain": [
       "<matplotlib.contour.QuadContourSet at 0x15c5ba1e6d0>"
      ]
     },
     "execution_count": 13,
     "metadata": {},
     "output_type": "execute_result"
    },
    {
     "data": {
      "image/png": "[encoded data removed]",
      "text/plain": [
       "<Figure size 432x288 with 1 Axes>"
      ]
     },
     "metadata": {
      "needs_background": "light"
     },
     "output_type": "display_data"
    }
   ],
   "source": [
    "\n",
    "z =multivariate_normal.pdf(mesh_val, mean=myu, cov=sigma)#メッシュグリッド座標毎に確率密度を計算\n",
    "z=z.reshape(x.shape)\t#このままだと1次元配列なので、zをメッシュグリッドの2次元配列に合わせる\n",
    "plt.contour(x,y,z,level=4)  "
   ]
  },
  {
   "cell_type": "code",
   "execution_count": null,
   "id": "123251d8",
   "metadata": {},
   "outputs": [],
   "source": []
  }
 ],
 "metadata": {
  "kernelspec": {
   "display_name": "Python 3 (ipykernel)",
   "language": "python",
   "name": "python3"
  },
  "language_info": {
   "codemirror_mode": {
    "name": "ipython",
    "version": 3
   },
   "file_extension": ".py",
   "mimetype": "text/x-python",
   "name": "python",
   "nbconvert_exporter": "python",
   "pygments_lexer": "ipython3",
   "version": "3.9.12"
  }
 },
 "nbformat": 4,
 "nbformat_minor": 5
}
